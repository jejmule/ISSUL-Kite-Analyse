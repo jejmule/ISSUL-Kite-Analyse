{
 "cells": [
  {
   "cell_type": "code",
   "execution_count": 1,
   "metadata": {},
   "outputs": [
    {
     "data": {
      "application/vnd.jupyter.widget-view+json": {
       "model_id": "602a1769fa29473f9169430912b75c5f",
       "version_major": 2,
       "version_minor": 0
      },
      "text/plain": [
       "Button(description='Select folder', style=ButtonStyle())"
      ]
     },
     "metadata": {},
     "output_type": "display_data"
    },
    {
     "data": {
      "application/vnd.jupyter.widget-view+json": {
       "model_id": "d6a2fb5787fb40ec9e0e1f74cda89d98",
       "version_major": 2,
       "version_minor": 0
      },
      "text/plain": [
       "Output(layout=Layout(border='1px solid black'))"
      ]
     },
     "metadata": {},
     "output_type": "display_data"
    }
   ],
   "source": [
    "from Kite import Kite\n",
    "import ipywidgets as widgets\n",
    "from ipywidgets import Layout, interact\n",
    "\n",
    "from IPython.display import display\n",
    "\n",
    "select_folder = widgets.Button(description='Select folder')\n",
    "debug_view = widgets.Output(layout={'border': '1px solid black'})\n",
    "kite = Kite(debug_view)\n",
    "select_folder.on_click(kite.set_folder)\n",
    "display(select_folder,debug_view)"
   ]
  },
  {
   "cell_type": "code",
   "execution_count": 2,
   "metadata": {},
   "outputs": [
    {
     "data": {
      "application/vnd.jupyter.widget-view+json": {
       "model_id": "fa64ea5d34ba407d8993c36c290c118d",
       "version_major": 2,
       "version_minor": 0
      },
      "text/plain": [
       "interactive(children=(IntSlider(value=0, description='start', layout=Layout(width='99%'), max=89051), IntSlide…"
      ]
     },
     "metadata": {},
     "output_type": "display_data"
    },
    {
     "data": {
      "application/vnd.jupyter.widget-view+json": {
       "model_id": "91c2c10938984dc8892c4f7971078b45",
       "version_major": 2,
       "version_minor": 0
      },
      "text/plain": [
       "Button(description='Show graphs', style=ButtonStyle())"
      ]
     },
     "metadata": {},
     "output_type": "display_data"
    },
    {
     "data": {
      "application/vnd.jupyter.widget-view+json": {
       "model_id": "f847046dad0f4ffba7f8f5c6bf01af26",
       "version_major": 2,
       "version_minor": 0
      },
      "text/plain": [
       "Output()"
      ]
     },
     "metadata": {},
     "output_type": "display_data"
    }
   ],
   "source": [
    "plot_area = widgets.Output()\n",
    "kite.add_plot(plot_area)\n",
    "layout = Layout()\n",
    "layout.width = '99%'\n",
    "length = len(kite.timestamps_ms)\n",
    "i_start = widgets.IntSlider(description='start',max=length,layout=layout)\n",
    "i_end = widgets.IntSlider(description='end',value=length,max=length,layout=layout)\n",
    "interact(kite.define_range,start=i_start,end=i_end)\n",
    "\n",
    "show_graph = widgets.Button(description='Show graphs')\n",
    "show_graph.on_click(kite.display_plots)\n",
    "\n",
    "display(show_graph,plot_area)\n"
   ]
  },
  {
   "cell_type": "code",
   "execution_count": null,
   "metadata": {},
   "outputs": [],
   "source": [
    "import matplotlib.pyplot as plt\n",
    "from scipy import signal\n",
    "import numpy as np\n",
    "plt.rcParams['figure.figsize'] = [12,12]\n",
    "plt.figure('test')\n",
    "#plt.plot(kite.gps_data['time'][50:250],kite.gps_data['bearing'][50:250])\n",
    "#plt.plot(2.2+kite.board_data[\"timestamp[us]\"][1000:6500]/1e6,kite.board_data[\"magY[uT]\"][1000:6500]*4,'.')\n",
    "plt.plot(kite.gps_data['time'],kite.gps_data['bearing'])\n",
    "plt.plot(2.2+kite.board_data[\"timestamp[us]\"]/1e6,kite.board_data[\"magY[uT]\"]*4,'.')"
   ]
  },
  {
   "cell_type": "code",
   "execution_count": null,
   "metadata": {},
   "outputs": [],
   "source": [
    "import plotly.express as px\n",
    "in_range = kite.gps_location\n",
    "fig = px.scatter(x=in_range[:,0], y=in_range[:,1])\n",
    "fig.show()"
   ]
  }
 ],
 "metadata": {
  "kernelspec": {
   "display_name": "Python 3 (ipykernel)",
   "language": "python",
   "name": "python3"
  },
  "language_info": {
   "codemirror_mode": {
    "name": "ipython",
    "version": 3
   },
   "file_extension": ".py",
   "mimetype": "text/x-python",
   "name": "python",
   "nbconvert_exporter": "python",
   "pygments_lexer": "ipython3",
   "version": "3.9.5"
  }
 },
 "nbformat": 4,
 "nbformat_minor": 4
}
